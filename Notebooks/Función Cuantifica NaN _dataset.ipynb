{
 "cells": [
  {
   "cell_type": "code",
   "execution_count": null,
   "metadata": {
    "collapsed": true
   },
   "outputs": [],
   "source": [
    "def data_cuantifica_NaN_dataframe (df_revisar):\n",
    "    import pandas as pd\n",
    "    array_variables_dataset =df_revisar.columns.values\n",
    "    for line in array_variables_dataset:\n",
    "        variable_dataset = line\n",
    "        cantidad_de_NaN=pd.isnull(df_revisar[variable_dataset]).values.ravel().sum() # id variables Na\n",
    "        cantidad_de_NaN_formato=str(cantidad_de_NaN.tolist())\n",
    "        print (variable_dataset +\" \"+\"tiene\"+\" \" + cantidad_de_NaN_formato +\" \"+\"NaN\")\n",
    "    return\n",
    "# La función se llama de la siguiente forma:\n",
    "# data_cuantifica_NaN_dataframeg (nombre del Dataset)"
   ]
  }
 ],
 "metadata": {
  "kernelspec": {
   "display_name": "Python 3",
   "language": "python",
   "name": "python3"
  },
  "language_info": {
   "codemirror_mode": {
    "name": "ipython",
    "version": 3
   },
   "file_extension": ".py",
   "mimetype": "text/x-python",
   "name": "python",
   "nbconvert_exporter": "python",
   "pygments_lexer": "ipython3",
   "version": "3.6.1"
  }
 },
 "nbformat": 4,
 "nbformat_minor": 2
}
