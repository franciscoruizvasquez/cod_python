{
 "cells": [
  {
   "cell_type": "markdown",
   "metadata": {},
   "source": [
    "# Fundamentals\n",
    "***Realizando Subset**\n",
    "\n",
    "element2=df_practica[[\"Account Length\",\"Phone\",\"Day Charge\"]]\n",
    "\n",
    "element2.columns.values\n",
    "\n",
    "desired_columns = [\"Account Length\",\"Phone\",\"Day Charge\"]\n",
    "\n",
    "subset = df_practica[desired_columns]\n",
    "\n",
    "subset.head(3)\n",
    "\n",
    "***Realizando Subset por Diferencia**\n",
    "\n",
    "all_columns=df_practica.columns.values.tolist()\n",
    "\n",
    "subset_final =[x for x in all_columns if x not in desired_columns]\n",
    "\n",
    "subset_final2 = df_practica[subset_final]\n",
    "\n",
    "***Slicing**\n",
    "\n",
    "df_practica[25:27]\n",
    "\n",
    "data1 = df_practica[df_practica[\"Day Mins\"]>300]\n",
    "\n",
    "data2=df_practica[df_practica[\"State\"]==\"NY\"]\n",
    "\n",
    "data3 = df_practica[(df_practica[\"Day Mins\"]>300) & (df_practica[\"State\"]==\"NY\")]\n",
    "\n",
    "subset_first_50 = df_practica[[\"Day Mins\",\"Night Mins\",\"Account Length\"]][:50]\n",
    "\n",
    "***Uso de Iloc**\n",
    "\n",
    "df_practica.loc[1:10,[\"Day Mins\",\"Night Mins\"]]\n",
    "\n",
    "***Creación de Variables compuestas**\n",
    "\n",
    "df_practica[\"Total Mins\"] = df_practica[\"Day Mins\"] + df_practica[\"Night Mins\"] + df_practica[\"Eve Mins\"]"
   ]
  },
  {
   "cell_type": "code",
   "execution_count": null,
   "metadata": {
    "collapsed": true
   },
   "outputs": [],
   "source": []
  }
 ],
 "metadata": {
  "kernelspec": {
   "display_name": "Python 3",
   "language": "python",
   "name": "python3"
  },
  "language_info": {
   "codemirror_mode": {
    "name": "ipython",
    "version": 3
   },
   "file_extension": ".py",
   "mimetype": "text/x-python",
   "name": "python",
   "nbconvert_exporter": "python",
   "pygments_lexer": "ipython3",
   "version": "3.6.1"
  }
 },
 "nbformat": 4,
 "nbformat_minor": 2
}
